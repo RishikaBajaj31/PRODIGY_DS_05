{
  "metadata": {
    "kernelspec": {
      "language": "python",
      "display_name": "Python 3",
      "name": "python3"
    },
    "language_info": {
      "name": "python",
      "version": "3.7.12",
      "mimetype": "text/x-python",
      "codemirror_mode": {
        "name": "ipython",
        "version": 3
      },
      "pygments_lexer": "ipython3",
      "nbconvert_exporter": "python",
      "file_extension": ".py"
    },
    "kaggle": {
      "accelerator": "none",
      "dataSources": [
        {
          "sourceId": 5793796,
          "sourceType": "datasetVersion",
          "datasetId": 199387
        }
      ],
      "dockerImageVersionId": 30197,
      "isInternetEnabled": false,
      "language": "python",
      "sourceType": "notebook",
      "isGpuEnabled": false
    },
    "colab": {
      "provenance": []
    }
  },
  "nbformat_minor": 0,
  "nbformat": 4,
  "cells": [
    {
      "source": [
        "\n",
        "# IMPORTANT: RUN THIS CELL IN ORDER TO IMPORT YOUR KAGGLE DATA SOURCES\n",
        "# TO THE CORRECT LOCATION (/kaggle/input) IN YOUR NOTEBOOK,\n",
        "# THEN FEEL FREE TO DELETE THIS CELL.\n",
        "# NOTE: THIS NOTEBOOK ENVIRONMENT DIFFERS FROM KAGGLE'S PYTHON\n",
        "# ENVIRONMENT SO THERE MAY BE MISSING LIBRARIES USED BY YOUR\n",
        "# NOTEBOOK.\n",
        "\n",
        "import os\n",
        "import sys\n",
        "from tempfile import NamedTemporaryFile\n",
        "from urllib.request import urlopen\n",
        "from urllib.parse import unquote, urlparse\n",
        "from urllib.error import HTTPError\n",
        "from zipfile import ZipFile\n",
        "import tarfile\n",
        "import shutil\n",
        "\n",
        "CHUNK_SIZE = 40960\n",
        "DATA_SOURCE_MAPPING = 'us-accidents:https%3A%2F%2Fstorage.googleapis.com%2Fkaggle-data-sets%2F199387%2F5793796%2Fbundle%2Farchive.zip%3FX-Goog-Algorithm%3DGOOG4-RSA-SHA256%26X-Goog-Credential%3Dgcp-kaggle-com%2540kaggle-161607.iam.gserviceaccount.com%252F20240624%252Fauto%252Fstorage%252Fgoog4_request%26X-Goog-Date%3D20240624T065210Z%26X-Goog-Expires%3D259200%26X-Goog-SignedHeaders%3Dhost%26X-Goog-Signature%3D22f5fc0b6627916f127906983b8c7c9d52aba453f33151d77149e6245bbee15cfe89438e597e253756ec9fbcf7b665d0cf23027b9e1862264d826d5cf1ed64b27897bec616fdf4e63a538415c8bd4147f0f5e81322d2c4fdc8b866676bb506a0a9bf5badc980cd812b3a6a543ebf2efd51a3b16b53975761e762baed1a6ca887e52675ec8036411b5c0846a2b622e9321edb71aca695402f9ae88bcff518dcec24f4e78701db3e423cefa5349a4ef1d4244c15470d52a585b89f2c1c833dca5392c35a00f72ea45d41177ae325ffa1989c0142b89a84bc9748799e1a5f4e57a8a7b87faff83882102cc28f8727580c7971a91932c1a6016d3a81266ea6a8dddf'\n",
        "\n",
        "KAGGLE_INPUT_PATH='/kaggle/input'\n",
        "KAGGLE_WORKING_PATH='/kaggle/working'\n",
        "KAGGLE_SYMLINK='kaggle'\n",
        "\n",
        "!umount /kaggle/input/ 2> /dev/null\n",
        "shutil.rmtree('/kaggle/input', ignore_errors=True)\n",
        "os.makedirs(KAGGLE_INPUT_PATH, 0o777, exist_ok=True)\n",
        "os.makedirs(KAGGLE_WORKING_PATH, 0o777, exist_ok=True)\n",
        "\n",
        "try:\n",
        "  os.symlink(KAGGLE_INPUT_PATH, os.path.join(\"..\", 'input'), target_is_directory=True)\n",
        "except FileExistsError:\n",
        "  pass\n",
        "try:\n",
        "  os.symlink(KAGGLE_WORKING_PATH, os.path.join(\"..\", 'working'), target_is_directory=True)\n",
        "except FileExistsError:\n",
        "  pass\n",
        "\n",
        "for data_source_mapping in DATA_SOURCE_MAPPING.split(','):\n",
        "    directory, download_url_encoded = data_source_mapping.split(':')\n",
        "    download_url = unquote(download_url_encoded)\n",
        "    filename = urlparse(download_url).path\n",
        "    destination_path = os.path.join(KAGGLE_INPUT_PATH, directory)\n",
        "    try:\n",
        "        with urlopen(download_url) as fileres, NamedTemporaryFile() as tfile:\n",
        "            total_length = fileres.headers['content-length']\n",
        "            print(f'Downloading {directory}, {total_length} bytes compressed')\n",
        "            dl = 0\n",
        "            data = fileres.read(CHUNK_SIZE)\n",
        "            while len(data) > 0:\n",
        "                dl += len(data)\n",
        "                tfile.write(data)\n",
        "                done = int(50 * dl / int(total_length))\n",
        "                sys.stdout.write(f\"\\r[{'=' * done}{' ' * (50-done)}] {dl} bytes downloaded\")\n",
        "                sys.stdout.flush()\n",
        "                data = fileres.read(CHUNK_SIZE)\n",
        "            if filename.endswith('.zip'):\n",
        "              with ZipFile(tfile) as zfile:\n",
        "                zfile.extractall(destination_path)\n",
        "            else:\n",
        "              with tarfile.open(tfile.name) as tarfile:\n",
        "                tarfile.extractall(destination_path)\n",
        "            print(f'\\nDownloaded and uncompressed: {directory}')\n",
        "    except HTTPError as e:\n",
        "        print(f'Failed to load (likely expired) {download_url} to path {destination_path}')\n",
        "        continue\n",
        "    except OSError as e:\n",
        "        print(f'Failed to load {download_url} to path {destination_path}')\n",
        "        continue\n",
        "\n",
        "print('Data source import complete.')\n"
      ],
      "metadata": {
        "id": "a7PAgbnaBGPB"
      },
      "cell_type": "code",
      "outputs": [],
      "execution_count": null
    },
    {
      "cell_type": "code",
      "source": [
        "# This Python 3 environment comes with many helpful analytics libraries installed\n",
        "# It is defined by the kaggle/python Docker image: https://github.com/kaggle/docker-python\n",
        "# For example, here's several helpful packages to load\n",
        "\n",
        "import numpy as np # linear algebra\n",
        "import pandas as pd # data processing, CSV file I/O (e.g. pd.read_csv)\n",
        "\n",
        "# Input data files are available in the read-only \"../input/\" directory\n",
        "# For example, running this (by clicking run or pressing Shift+Enter) will list all files under the input directory\n",
        "\n",
        "import os\n",
        "for dirname, _, filenames in os.walk('/kaggle/input'):\n",
        "    for filename in filenames:\n",
        "        print(os.path.join(dirname, filename))\n",
        "\n",
        "# You can write up to 20GB to the current directory (/kaggle/working/) that gets preserved as output when you create a version using \"Save & Run All\"\n",
        "# You can also write temporary files to /kaggle/temp/, but they won't be saved outside of the current session"
      ],
      "metadata": {
        "_uuid": "8f2839f25d086af736a60e9eeb907d3b93b6e0e5",
        "_cell_guid": "b1076dfc-b9ad-4769-8c92-a6c4dae69d19",
        "execution": {
          "iopub.status.busy": "2024-06-24T06:30:37.840263Z",
          "iopub.execute_input": "2024-06-24T06:30:37.840752Z",
          "iopub.status.idle": "2024-06-24T06:30:37.858255Z",
          "shell.execute_reply.started": "2024-06-24T06:30:37.840715Z",
          "shell.execute_reply": "2024-06-24T06:30:37.857076Z"
        },
        "trusted": true,
        "id": "za0bwnDMBGPE"
      },
      "execution_count": null,
      "outputs": []
    },
    {
      "cell_type": "code",
      "source": [
        "import pandas as pd\n",
        "import numpy as np\n",
        "import seaborn as sns\n",
        "import matplotlib.pyplot as plt"
      ],
      "metadata": {
        "execution": {
          "iopub.status.busy": "2024-06-24T06:30:37.860496Z",
          "iopub.execute_input": "2024-06-24T06:30:37.860948Z",
          "iopub.status.idle": "2024-06-24T06:30:38.569156Z",
          "shell.execute_reply.started": "2024-06-24T06:30:37.860904Z",
          "shell.execute_reply": "2024-06-24T06:30:38.567965Z"
        },
        "trusted": true,
        "id": "Hw3ffInRBGPF"
      },
      "execution_count": null,
      "outputs": []
    },
    {
      "cell_type": "code",
      "source": [
        "df_USA=pd.read_csv('/kaggle/input/us-accidents/US_Accidents_March23.csv')"
      ],
      "metadata": {
        "execution": {
          "iopub.status.busy": "2024-06-24T06:30:38.570588Z",
          "iopub.execute_input": "2024-06-24T06:30:38.571028Z",
          "iopub.status.idle": "2024-06-24T06:33:16.313188Z",
          "shell.execute_reply.started": "2024-06-24T06:30:38.57099Z",
          "shell.execute_reply": "2024-06-24T06:33:16.312078Z"
        },
        "trusted": true,
        "id": "ieanlU-PBGPF"
      },
      "execution_count": null,
      "outputs": []
    },
    {
      "cell_type": "code",
      "source": [
        "df_USA.head()"
      ],
      "metadata": {
        "execution": {
          "iopub.status.busy": "2024-06-24T06:33:16.314679Z",
          "iopub.execute_input": "2024-06-24T06:33:16.315733Z",
          "iopub.status.idle": "2024-06-24T06:33:16.36454Z",
          "shell.execute_reply.started": "2024-06-24T06:33:16.315689Z",
          "shell.execute_reply": "2024-06-24T06:33:16.363395Z"
        },
        "trusted": true,
        "id": "wMHTQXb5BGPF"
      },
      "execution_count": null,
      "outputs": []
    },
    {
      "cell_type": "code",
      "source": [
        "df_USA.columns"
      ],
      "metadata": {
        "execution": {
          "iopub.status.busy": "2024-06-24T06:33:16.367507Z",
          "iopub.execute_input": "2024-06-24T06:33:16.367971Z",
          "iopub.status.idle": "2024-06-24T06:33:16.379268Z",
          "shell.execute_reply.started": "2024-06-24T06:33:16.367931Z",
          "shell.execute_reply": "2024-06-24T06:33:16.377958Z"
        },
        "trusted": true,
        "id": "Vw4Ie1MsBGPG"
      },
      "execution_count": null,
      "outputs": []
    },
    {
      "cell_type": "code",
      "source": [
        "df_USA.dtypes.value_counts()"
      ],
      "metadata": {
        "execution": {
          "iopub.status.busy": "2024-06-24T06:33:16.380911Z",
          "iopub.execute_input": "2024-06-24T06:33:16.381365Z",
          "iopub.status.idle": "2024-06-24T06:33:16.401014Z",
          "shell.execute_reply.started": "2024-06-24T06:33:16.381327Z",
          "shell.execute_reply": "2024-06-24T06:33:16.399664Z"
        },
        "trusted": true,
        "id": "PdyZ17RiBGPG"
      },
      "execution_count": null,
      "outputs": []
    },
    {
      "cell_type": "markdown",
      "source": [
        "# Shape of original data"
      ],
      "metadata": {
        "id": "MkcTAXMeBGPG"
      }
    },
    {
      "cell_type": "code",
      "source": [
        "df_USA.shape   # USA DATASET"
      ],
      "metadata": {
        "execution": {
          "iopub.status.busy": "2024-06-24T06:33:16.402484Z",
          "iopub.execute_input": "2024-06-24T06:33:16.402991Z",
          "iopub.status.idle": "2024-06-24T06:33:16.416397Z",
          "shell.execute_reply.started": "2024-06-24T06:33:16.40295Z",
          "shell.execute_reply": "2024-06-24T06:33:16.415261Z"
        },
        "trusted": true,
        "id": "qC3GYQo1BGPH"
      },
      "execution_count": null,
      "outputs": []
    },
    {
      "cell_type": "markdown",
      "source": [
        "num_col=df.select_dtypes('number')\n",
        "cat_col=df.select_dtypes('object')\n",
        "bool_col=df.select_dtypes('bool')\n",
        "float_col=df.select_dtypes('float64')\n",
        "float_col=df.select_dtypes('int64')\n",
        "\n"
      ],
      "metadata": {
        "execution": {
          "iopub.status.busy": "2022-06-04T18:43:32.218354Z",
          "iopub.execute_input": "2022-06-04T18:43:32.218688Z",
          "iopub.status.idle": "2022-06-04T18:43:32.497813Z",
          "shell.execute_reply.started": "2022-06-04T18:43:32.218659Z",
          "shell.execute_reply": "2022-06-04T18:43:32.496749Z"
        },
        "id": "bIloEHX7BGPI"
      }
    },
    {
      "cell_type": "markdown",
      "source": [
        "missing_data = df.isna().sum(axis=0).sort_values(ascending=True)\n",
        "missing_data = missing_data.to_frame()\n",
        "missing_data.columns = ['missing_count']\n",
        "missing_data = missing_data.loc[missing_data['missing_count']>0]\n",
        "\n",
        "missing_data"
      ],
      "metadata": {
        "execution": {
          "iopub.status.busy": "2022-06-04T19:21:50.534304Z",
          "iopub.execute_input": "2022-06-04T19:21:50.534729Z",
          "iopub.status.idle": "2022-06-04T19:21:51.134368Z",
          "shell.execute_reply.started": "2022-06-04T19:21:50.534689Z",
          "shell.execute_reply": "2022-06-04T19:21:51.132737Z"
        },
        "id": "cc2d4yS-BGPI"
      }
    },
    {
      "cell_type": "code",
      "source": [
        "# COLUMN NUMBER has highest no of null value , we cam drop that col further"
      ],
      "metadata": {
        "execution": {
          "iopub.status.busy": "2024-06-24T06:33:16.417742Z",
          "iopub.execute_input": "2024-06-24T06:33:16.418208Z",
          "iopub.status.idle": "2024-06-24T06:33:16.428114Z",
          "shell.execute_reply.started": "2024-06-24T06:33:16.418172Z",
          "shell.execute_reply": "2024-06-24T06:33:16.427051Z"
        },
        "trusted": true,
        "id": "OYDJ6vxJBGPI"
      },
      "execution_count": null,
      "outputs": []
    },
    {
      "cell_type": "code",
      "source": [
        "df_USA.describe()"
      ],
      "metadata": {
        "execution": {
          "iopub.status.busy": "2024-06-24T06:33:16.429592Z",
          "iopub.execute_input": "2024-06-24T06:33:16.430127Z",
          "iopub.status.idle": "2024-06-24T06:33:22.037611Z",
          "shell.execute_reply.started": "2024-06-24T06:33:16.430077Z",
          "shell.execute_reply": "2024-06-24T06:33:22.036467Z"
        },
        "trusted": true,
        "id": "NdqTK8hvBGPJ"
      },
      "execution_count": null,
      "outputs": []
    },
    {
      "cell_type": "code",
      "source": [
        "df_USA.State.unique"
      ],
      "metadata": {
        "execution": {
          "iopub.status.busy": "2024-06-24T06:33:22.039173Z",
          "iopub.execute_input": "2024-06-24T06:33:22.039624Z",
          "iopub.status.idle": "2024-06-24T06:33:22.049392Z",
          "shell.execute_reply.started": "2024-06-24T06:33:22.039587Z",
          "shell.execute_reply": "2024-06-24T06:33:22.048176Z"
        },
        "trusted": true,
        "id": "YvBpaZESBGPJ"
      },
      "execution_count": null,
      "outputs": []
    },
    {
      "cell_type": "code",
      "source": [
        "df1=df_USA[df_USA['State']=='CA']"
      ],
      "metadata": {
        "execution": {
          "iopub.status.busy": "2024-06-24T06:33:22.050801Z",
          "iopub.execute_input": "2024-06-24T06:33:22.051374Z",
          "iopub.status.idle": "2024-06-24T06:33:25.224143Z",
          "shell.execute_reply.started": "2024-06-24T06:33:22.051331Z",
          "shell.execute_reply": "2024-06-24T06:33:25.223097Z"
        },
        "trusted": true,
        "id": "sldb4zHoBGPJ"
      },
      "execution_count": null,
      "outputs": []
    },
    {
      "cell_type": "code",
      "source": [
        "df1['IDD'] = df1['ID'].astype('str').str.extractall('(\\d+)').unstack().fillna('').sum(axis=1).astype(int)"
      ],
      "metadata": {
        "execution": {
          "iopub.status.busy": "2024-06-24T06:33:25.225731Z",
          "iopub.execute_input": "2024-06-24T06:33:25.226272Z",
          "iopub.status.idle": "2024-06-24T06:33:42.914968Z",
          "shell.execute_reply.started": "2024-06-24T06:33:25.226214Z",
          "shell.execute_reply": "2024-06-24T06:33:42.913752Z"
        },
        "trusted": true,
        "id": "F_gJ_NkvBGPJ"
      },
      "execution_count": null,
      "outputs": []
    },
    {
      "cell_type": "code",
      "source": [
        "df1"
      ],
      "metadata": {
        "execution": {
          "iopub.status.busy": "2024-06-24T06:33:42.916497Z",
          "iopub.execute_input": "2024-06-24T06:33:42.916909Z",
          "iopub.status.idle": "2024-06-24T06:33:44.188497Z",
          "shell.execute_reply.started": "2024-06-24T06:33:42.916875Z",
          "shell.execute_reply": "2024-06-24T06:33:44.187384Z"
        },
        "trusted": true,
        "id": "53eChigdBGPJ"
      },
      "execution_count": null,
      "outputs": []
    },
    {
      "cell_type": "code",
      "source": [
        "#df1['ID'].astype('int64')\n",
        "#df1['ID'] = df1['ID'].astype(int)"
      ],
      "metadata": {
        "execution": {
          "iopub.status.busy": "2024-06-24T06:33:44.192942Z",
          "iopub.execute_input": "2024-06-24T06:33:44.193677Z",
          "iopub.status.idle": "2024-06-24T06:33:44.200503Z",
          "shell.execute_reply.started": "2024-06-24T06:33:44.193637Z",
          "shell.execute_reply": "2024-06-24T06:33:44.199344Z"
        },
        "trusted": true,
        "id": "WYoSaJcrBGPJ"
      },
      "execution_count": null,
      "outputs": []
    },
    {
      "cell_type": "code",
      "source": [
        "df1.head()"
      ],
      "metadata": {
        "execution": {
          "iopub.status.busy": "2024-06-24T06:33:44.20189Z",
          "iopub.execute_input": "2024-06-24T06:33:44.202366Z",
          "iopub.status.idle": "2024-06-24T06:33:44.240544Z",
          "shell.execute_reply.started": "2024-06-24T06:33:44.202327Z",
          "shell.execute_reply": "2024-06-24T06:33:44.239414Z"
        },
        "trusted": true,
        "id": "329nRFQkBGPJ"
      },
      "execution_count": null,
      "outputs": []
    },
    {
      "cell_type": "code",
      "source": [
        "df1.shape"
      ],
      "metadata": {
        "execution": {
          "iopub.status.busy": "2024-06-24T06:33:44.242172Z",
          "iopub.execute_input": "2024-06-24T06:33:44.243319Z",
          "iopub.status.idle": "2024-06-24T06:33:44.25494Z",
          "shell.execute_reply.started": "2024-06-24T06:33:44.24327Z",
          "shell.execute_reply": "2024-06-24T06:33:44.253803Z"
        },
        "trusted": true,
        "id": "rm8LE31MBGPJ"
      },
      "execution_count": null,
      "outputs": []
    },
    {
      "cell_type": "code",
      "source": [
        "df1.columns"
      ],
      "metadata": {
        "execution": {
          "iopub.status.busy": "2024-06-24T06:33:44.256561Z",
          "iopub.execute_input": "2024-06-24T06:33:44.257099Z",
          "iopub.status.idle": "2024-06-24T06:33:44.267551Z",
          "shell.execute_reply.started": "2024-06-24T06:33:44.25705Z",
          "shell.execute_reply": "2024-06-24T06:33:44.266242Z"
        },
        "trusted": true,
        "id": "vtnKzWUQBGPJ"
      },
      "execution_count": null,
      "outputs": []
    },
    {
      "cell_type": "code",
      "source": [
        "df1.duplicated().sum()"
      ],
      "metadata": {
        "execution": {
          "iopub.status.busy": "2024-06-24T06:33:44.269354Z",
          "iopub.execute_input": "2024-06-24T06:33:44.269939Z",
          "iopub.status.idle": "2024-06-24T06:33:56.416983Z",
          "shell.execute_reply.started": "2024-06-24T06:33:44.269887Z",
          "shell.execute_reply": "2024-06-24T06:33:56.415792Z"
        },
        "trusted": true,
        "id": "9rqbbUEjBGPK"
      },
      "execution_count": null,
      "outputs": []
    },
    {
      "cell_type": "code",
      "source": [
        "d1f=df1.dropna(subset=['Precipitation(in)'])"
      ],
      "metadata": {
        "execution": {
          "iopub.status.busy": "2024-06-24T06:33:56.418576Z",
          "iopub.execute_input": "2024-06-24T06:33:56.419091Z",
          "iopub.status.idle": "2024-06-24T06:33:57.124219Z",
          "shell.execute_reply.started": "2024-06-24T06:33:56.419051Z",
          "shell.execute_reply": "2024-06-24T06:33:57.122915Z"
        },
        "trusted": true,
        "id": "ZzTTOnVuBGPK"
      },
      "execution_count": null,
      "outputs": []
    },
    {
      "cell_type": "code",
      "source": [
        "df1.shape"
      ],
      "metadata": {
        "execution": {
          "iopub.status.busy": "2024-06-24T06:33:57.125703Z",
          "iopub.execute_input": "2024-06-24T06:33:57.126235Z",
          "iopub.status.idle": "2024-06-24T06:33:57.133294Z",
          "shell.execute_reply.started": "2024-06-24T06:33:57.126185Z",
          "shell.execute_reply": "2024-06-24T06:33:57.13215Z"
        },
        "trusted": true,
        "id": "J_lR4JgCBGPK"
      },
      "execution_count": null,
      "outputs": []
    },
    {
      "cell_type": "code",
      "source": [
        "df1=df1.dropna(subset=['Temperature(F)','Wind_Chill(F)','Humidity(%)','Pressure(in)','Visibility(mi)','Wind_Direction', 'Wind_Speed(mph)',\n",
        "                      'Weather_Condition'])"
      ],
      "metadata": {
        "execution": {
          "iopub.status.busy": "2024-06-24T06:33:57.134767Z",
          "iopub.execute_input": "2024-06-24T06:33:57.135249Z",
          "iopub.status.idle": "2024-06-24T06:33:58.384681Z",
          "shell.execute_reply.started": "2024-06-24T06:33:57.135211Z",
          "shell.execute_reply": "2024-06-24T06:33:58.383524Z"
        },
        "trusted": true,
        "id": "9cjhssUwBGPK"
      },
      "execution_count": null,
      "outputs": []
    },
    {
      "cell_type": "code",
      "source": [
        "df1.shape"
      ],
      "metadata": {
        "execution": {
          "iopub.status.busy": "2024-06-24T06:33:58.386412Z",
          "iopub.execute_input": "2024-06-24T06:33:58.386999Z",
          "iopub.status.idle": "2024-06-24T06:33:58.394885Z",
          "shell.execute_reply.started": "2024-06-24T06:33:58.386942Z",
          "shell.execute_reply": "2024-06-24T06:33:58.393685Z"
        },
        "trusted": true,
        "id": "WnjFm7ULBGPK"
      },
      "execution_count": null,
      "outputs": []
    },
    {
      "cell_type": "code",
      "source": [
        "df1.isna().sum()/len(df1)*100"
      ],
      "metadata": {
        "execution": {
          "iopub.status.busy": "2024-06-24T06:33:58.39647Z",
          "iopub.execute_input": "2024-06-24T06:33:58.396978Z",
          "iopub.status.idle": "2024-06-24T06:34:01.31524Z",
          "shell.execute_reply.started": "2024-06-24T06:33:58.396936Z",
          "shell.execute_reply": "2024-06-24T06:34:01.314018Z"
        },
        "trusted": true,
        "id": "a9HNv7q3BGPK"
      },
      "execution_count": null,
      "outputs": []
    },
    {
      "cell_type": "code",
      "source": [
        "df1=df1.dropna(subset=['City','Sunrise_Sunset',\n",
        "       'Civil_Twilight', 'Nautical_Twilight', 'Astronomical_Twilight'])"
      ],
      "metadata": {
        "execution": {
          "iopub.status.busy": "2024-06-24T06:34:01.316751Z",
          "iopub.execute_input": "2024-06-24T06:34:01.317271Z",
          "iopub.status.idle": "2024-06-24T06:34:03.044079Z",
          "shell.execute_reply.started": "2024-06-24T06:34:01.31722Z",
          "shell.execute_reply": "2024-06-24T06:34:03.043051Z"
        },
        "trusted": true,
        "id": "gJYdXNBEBGPK"
      },
      "execution_count": null,
      "outputs": []
    },
    {
      "cell_type": "code",
      "source": [
        "df1.isna().sum()/len(df1)*100"
      ],
      "metadata": {
        "execution": {
          "iopub.status.busy": "2024-06-24T06:34:03.045571Z",
          "iopub.execute_input": "2024-06-24T06:34:03.046022Z",
          "iopub.status.idle": "2024-06-24T06:34:05.982025Z",
          "shell.execute_reply.started": "2024-06-24T06:34:03.045986Z",
          "shell.execute_reply": "2024-06-24T06:34:05.980757Z"
        },
        "trusted": true,
        "id": "3sT4jZQOBGPK"
      },
      "execution_count": null,
      "outputs": []
    },
    {
      "cell_type": "code",
      "source": [
        "df1['Weather_Condition'].value_counts()"
      ],
      "metadata": {
        "execution": {
          "iopub.status.busy": "2024-06-24T06:34:05.983687Z",
          "iopub.execute_input": "2024-06-24T06:34:05.984617Z",
          "iopub.status.idle": "2024-06-24T06:34:06.206409Z",
          "shell.execute_reply.started": "2024-06-24T06:34:05.984561Z",
          "shell.execute_reply": "2024-06-24T06:34:06.205272Z"
        },
        "trusted": true,
        "id": "wnlphRrCBGPK"
      },
      "execution_count": null,
      "outputs": []
    },
    {
      "cell_type": "code",
      "source": [
        "df1.Side.unique()"
      ],
      "metadata": {
        "execution": {
          "iopub.status.busy": "2024-06-24T06:34:06.208062Z",
          "iopub.execute_input": "2024-06-24T06:34:06.208805Z",
          "iopub.status.idle": "2024-06-24T06:34:06.286172Z",
          "shell.execute_reply.started": "2024-06-24T06:34:06.208766Z",
          "shell.execute_reply": "2024-06-24T06:34:06.281951Z"
        },
        "trusted": true,
        "id": "1r0rVD8nBGPL"
      },
      "execution_count": null,
      "outputs": []
    },
    {
      "cell_type": "code",
      "source": [
        "df_cat=df1.select_dtypes('object')\n",
        "df_num=df1.select_dtypes(np.number)\n",
        "df_cat=df_cat.drop('ID',axis=1)"
      ],
      "metadata": {
        "execution": {
          "iopub.status.busy": "2024-06-24T06:34:06.287347Z",
          "iopub.status.idle": "2024-06-24T06:34:06.287882Z",
          "shell.execute_reply.started": "2024-06-24T06:34:06.287637Z",
          "shell.execute_reply": "2024-06-24T06:34:06.287659Z"
        },
        "trusted": true,
        "id": "Pc1X9kbvBGPL"
      },
      "execution_count": null,
      "outputs": []
    },
    {
      "cell_type": "markdown",
      "source": [],
      "metadata": {
        "id": "8CGszH0IBGPL"
      }
    },
    {
      "cell_type": "code",
      "source": [
        "df_cat=df1.select_dtypes('object')\n",
        "col_name=[]\n",
        "length=[]\n",
        "\n",
        "for i in df_cat.columns:\n",
        "    col_name.append(i)\n",
        "    length.append(len(df_cat[i].unique()))\n",
        "df_2=pd.DataFrame(zip(col_name,length),columns=['feature','count_of_unique_values'])\n",
        "df_2"
      ],
      "metadata": {
        "execution": {
          "iopub.status.busy": "2024-06-24T06:34:06.290376Z",
          "iopub.status.idle": "2024-06-24T06:34:06.290971Z",
          "shell.execute_reply.started": "2024-06-24T06:34:06.290687Z",
          "shell.execute_reply": "2024-06-24T06:34:06.290727Z"
        },
        "trusted": true,
        "id": "KcIyue8DBGPL"
      },
      "execution_count": null,
      "outputs": []
    },
    {
      "cell_type": "markdown",
      "source": [
        "num_col=df.select_dtypes('number')\n",
        "cat_col=df.select_dtypes('object')\n",
        "bool_col=df.select_dtypes('bool')\n",
        "float_col=df.select_dtypes('float64')\n",
        "int_col=df.select_dtypes('int64')\n"
      ],
      "metadata": {
        "execution": {
          "iopub.status.busy": "2022-06-04T18:43:34.165636Z",
          "iopub.execute_input": "2022-06-04T18:43:34.166032Z",
          "iopub.status.idle": "2022-06-04T18:43:34.3677Z",
          "shell.execute_reply.started": "2022-06-04T18:43:34.166001Z",
          "shell.execute_reply": "2022-06-04T18:43:34.366283Z"
        },
        "id": "FoljAwy9BGPL"
      }
    },
    {
      "cell_type": "code",
      "source": [
        "df1.drop(['Description','Zipcode','Weather_Timestamp'],axis=1,inplace=True)"
      ],
      "metadata": {
        "execution": {
          "iopub.status.busy": "2024-06-24T06:34:06.293038Z",
          "iopub.status.idle": "2024-06-24T06:34:06.293562Z",
          "shell.execute_reply.started": "2024-06-24T06:34:06.293332Z",
          "shell.execute_reply": "2024-06-24T06:34:06.293356Z"
        },
        "trusted": true,
        "id": "RjEDUkT7BGPL"
      },
      "execution_count": null,
      "outputs": []
    },
    {
      "cell_type": "code",
      "source": [
        "del df1['Airport_Code']"
      ],
      "metadata": {
        "execution": {
          "iopub.status.busy": "2024-06-24T06:34:06.295875Z",
          "iopub.status.idle": "2024-06-24T06:34:06.296438Z",
          "shell.execute_reply.started": "2024-06-24T06:34:06.296197Z",
          "shell.execute_reply": "2024-06-24T06:34:06.296222Z"
        },
        "trusted": true,
        "id": "qLBrqgZ0BGPL"
      },
      "execution_count": null,
      "outputs": []
    },
    {
      "cell_type": "code",
      "source": [
        "df_num.columns"
      ],
      "metadata": {
        "execution": {
          "iopub.status.busy": "2024-06-24T06:34:06.299113Z",
          "iopub.status.idle": "2024-06-24T06:34:06.299734Z",
          "shell.execute_reply.started": "2024-06-24T06:34:06.299475Z",
          "shell.execute_reply": "2024-06-24T06:34:06.2995Z"
        },
        "trusted": true,
        "id": "pMHNv0DBBGPL"
      },
      "execution_count": null,
      "outputs": []
    },
    {
      "cell_type": "code",
      "source": [
        "len(df_num.columns)"
      ],
      "metadata": {
        "execution": {
          "iopub.status.busy": "2024-06-24T06:34:06.301372Z",
          "iopub.status.idle": "2024-06-24T06:34:06.301869Z",
          "shell.execute_reply.started": "2024-06-24T06:34:06.301644Z",
          "shell.execute_reply": "2024-06-24T06:34:06.301665Z"
        },
        "trusted": true,
        "id": "4YEs-sWSBGPL"
      },
      "execution_count": null,
      "outputs": []
    },
    {
      "cell_type": "code",
      "source": [
        "df_cat.columns"
      ],
      "metadata": {
        "execution": {
          "iopub.status.busy": "2024-06-24T06:34:06.303569Z",
          "iopub.status.idle": "2024-06-24T06:34:06.304107Z",
          "shell.execute_reply.started": "2024-06-24T06:34:06.303865Z",
          "shell.execute_reply": "2024-06-24T06:34:06.303899Z"
        },
        "trusted": true,
        "id": "0tCOnBJtBGPS"
      },
      "execution_count": null,
      "outputs": []
    },
    {
      "cell_type": "code",
      "source": [
        "#bool_col.columns"
      ],
      "metadata": {
        "execution": {
          "iopub.status.busy": "2024-06-24T06:34:06.305592Z",
          "iopub.status.idle": "2024-06-24T06:34:06.306114Z",
          "shell.execute_reply.started": "2024-06-24T06:34:06.305847Z",
          "shell.execute_reply": "2024-06-24T06:34:06.305901Z"
        },
        "trusted": true,
        "id": "4NxDOYZcBGPS"
      },
      "execution_count": null,
      "outputs": []
    },
    {
      "cell_type": "code",
      "source": [
        "#int_col.columns"
      ],
      "metadata": {
        "execution": {
          "iopub.status.busy": "2024-06-24T06:34:06.307777Z",
          "iopub.status.idle": "2024-06-24T06:34:06.308538Z",
          "shell.execute_reply.started": "2024-06-24T06:34:06.308072Z",
          "shell.execute_reply": "2024-06-24T06:34:06.308095Z"
        },
        "trusted": true,
        "id": "HiP59CpyBGPT"
      },
      "execution_count": null,
      "outputs": []
    },
    {
      "cell_type": "code",
      "source": [
        "#cat_col.head()"
      ],
      "metadata": {
        "execution": {
          "iopub.status.busy": "2024-06-24T06:34:06.310766Z",
          "iopub.status.idle": "2024-06-24T06:34:06.311286Z",
          "shell.execute_reply.started": "2024-06-24T06:34:06.311072Z",
          "shell.execute_reply": "2024-06-24T06:34:06.311093Z"
        },
        "trusted": true,
        "id": "11OJFt9hBGPT"
      },
      "execution_count": null,
      "outputs": []
    },
    {
      "cell_type": "code",
      "source": [],
      "metadata": {
        "trusted": true,
        "id": "jkXtuHrABGPT"
      },
      "execution_count": null,
      "outputs": []
    },
    {
      "cell_type": "code",
      "source": [
        "len(df['City'].unique())"
      ],
      "metadata": {
        "execution": {
          "iopub.status.busy": "2024-06-24T06:34:06.312834Z",
          "iopub.status.idle": "2024-06-24T06:34:06.313326Z",
          "shell.execute_reply.started": "2024-06-24T06:34:06.313116Z",
          "shell.execute_reply": "2024-06-24T06:34:06.313137Z"
        },
        "trusted": true,
        "id": "GtPp4ZWvBGPT"
      },
      "execution_count": null,
      "outputs": []
    },
    {
      "cell_type": "code",
      "source": [
        "#cat_col"
      ],
      "metadata": {
        "execution": {
          "iopub.status.busy": "2024-06-24T06:34:06.315084Z",
          "iopub.status.idle": "2024-06-24T06:34:06.315535Z",
          "shell.execute_reply.started": "2024-06-24T06:34:06.315325Z",
          "shell.execute_reply": "2024-06-24T06:34:06.315345Z"
        },
        "trusted": true,
        "id": "Xr2PiS5XBGPT"
      },
      "execution_count": null,
      "outputs": []
    },
    {
      "cell_type": "code",
      "source": [
        "#num_col_1=df.select_dtypes('number')"
      ],
      "metadata": {
        "execution": {
          "iopub.status.busy": "2024-06-24T06:34:06.317145Z",
          "iopub.status.idle": "2024-06-24T06:34:06.317598Z",
          "shell.execute_reply.started": "2024-06-24T06:34:06.317382Z",
          "shell.execute_reply": "2024-06-24T06:34:06.317402Z"
        },
        "trusted": true,
        "id": "zLrQLH6XBGPT"
      },
      "execution_count": null,
      "outputs": []
    },
    {
      "cell_type": "markdown",
      "source": [
        "# Numeric Data"
      ],
      "metadata": {
        "id": "vIeZpoc7BGPT"
      }
    },
    {
      "cell_type": "code",
      "source": [
        "df_num=df1.select_dtypes(np.number)\n",
        "col_name=[]\n",
        "length=[]\n",
        "\n",
        "for i in df_num.columns:\n",
        "    col_name.append(i)\n",
        "    length.append(len(df_num[i].unique()))\n",
        "df_2=pd.DataFrame(zip(col_name,length),columns=['feature','count_of_unique_values'])\n",
        "df_2"
      ],
      "metadata": {
        "execution": {
          "iopub.status.busy": "2024-06-24T06:34:06.319018Z",
          "iopub.status.idle": "2024-06-24T06:34:06.319471Z",
          "shell.execute_reply.started": "2024-06-24T06:34:06.319259Z",
          "shell.execute_reply": "2024-06-24T06:34:06.319279Z"
        },
        "trusted": true,
        "id": "KcdnNQXLBGPT"
      },
      "execution_count": null,
      "outputs": []
    },
    {
      "cell_type": "code",
      "source": [
        "plt.figure(figsize=(15 ,9))\n",
        "sns.heatmap(df_num.corr() , annot=True)"
      ],
      "metadata": {
        "execution": {
          "iopub.status.busy": "2024-06-24T06:34:06.321343Z",
          "iopub.status.idle": "2024-06-24T06:34:06.32204Z",
          "shell.execute_reply.started": "2024-06-24T06:34:06.321684Z",
          "shell.execute_reply": "2024-06-24T06:34:06.321714Z"
        },
        "trusted": true,
        "id": "wi3a-6zPBGPU"
      },
      "execution_count": null,
      "outputs": []
    },
    {
      "cell_type": "code",
      "source": [
        "cities = df1['City'].unique()\n",
        "len(cities)"
      ],
      "metadata": {
        "execution": {
          "iopub.status.busy": "2024-06-24T06:34:06.323665Z",
          "iopub.status.idle": "2024-06-24T06:34:06.324354Z",
          "shell.execute_reply.started": "2024-06-24T06:34:06.324025Z",
          "shell.execute_reply": "2024-06-24T06:34:06.324055Z"
        },
        "trusted": true,
        "id": "ueSe-s5mBGPU"
      },
      "execution_count": null,
      "outputs": []
    },
    {
      "cell_type": "code",
      "source": [
        "accidents_by_cities = df1['City'].value_counts()\n",
        "accidents_by_cities"
      ],
      "metadata": {
        "execution": {
          "iopub.status.busy": "2024-06-24T06:34:06.326904Z",
          "iopub.status.idle": "2024-06-24T06:34:06.327433Z",
          "shell.execute_reply.started": "2024-06-24T06:34:06.327179Z",
          "shell.execute_reply": "2024-06-24T06:34:06.327208Z"
        },
        "trusted": true,
        "id": "JuSzVYriBGPU"
      },
      "execution_count": null,
      "outputs": []
    },
    {
      "cell_type": "code",
      "source": [
        "#top 10 cities by number of accident\n",
        "accidents_by_cities[:10]"
      ],
      "metadata": {
        "execution": {
          "iopub.status.busy": "2024-06-24T06:34:06.329307Z",
          "iopub.status.idle": "2024-06-24T06:34:06.329841Z",
          "shell.execute_reply.started": "2024-06-24T06:34:06.329597Z",
          "shell.execute_reply": "2024-06-24T06:34:06.32962Z"
        },
        "trusted": true,
        "id": "x94sidDABGPU"
      },
      "execution_count": null,
      "outputs": []
    },
    {
      "cell_type": "code",
      "source": [
        "fig, ax = plt.subplots(figsize=(8,5))\n",
        "accidents_by_cities[:10].plot(kind='bar')\n",
        "ax.set(title = 'Top 10 cities By Number of Accidents',\n",
        "       xlabel = 'Cities',\n",
        "       ylabel = 'Accidents Count')\n",
        "plt.show()"
      ],
      "metadata": {
        "execution": {
          "iopub.status.busy": "2024-06-24T06:34:06.332204Z",
          "iopub.status.idle": "2024-06-24T06:34:06.33291Z",
          "shell.execute_reply.started": "2024-06-24T06:34:06.332566Z",
          "shell.execute_reply": "2024-06-24T06:34:06.332597Z"
        },
        "trusted": true,
        "id": "Pt_0GbZDBGPU"
      },
      "execution_count": null,
      "outputs": []
    },
    {
      "cell_type": "code",
      "source": [
        "accidents_severity = df1.groupby('Severity').count()['ID']\n",
        "accidents_severity"
      ],
      "metadata": {
        "execution": {
          "iopub.status.busy": "2024-06-24T06:34:06.33518Z",
          "iopub.status.idle": "2024-06-24T06:34:06.335837Z",
          "shell.execute_reply.started": "2024-06-24T06:34:06.33553Z",
          "shell.execute_reply": "2024-06-24T06:34:06.335561Z"
        },
        "trusted": true,
        "id": "s5VdY_piBGPU"
      },
      "execution_count": null,
      "outputs": []
    },
    {
      "cell_type": "code",
      "source": [
        "fig, ax = plt.subplots(figsize=(8, 6), subplot_kw=dict(aspect=\"equal\"))\n",
        "label = [1,2,3,4]\n",
        "plt.pie(accidents_severity, labels=label,\n",
        "        autopct='%1.1f%%', pctdistance=0.85)\n",
        "circle = plt.Circle( (0,0), 0.5, color='white')\n",
        "p=plt.gcf()\n",
        "p.gca().add_artist(circle)\n",
        "ax.set_title(\"Accident by Severity\",fontdict={'fontsize': 16})\n",
        "plt.tight_layout()\n",
        "plt.show()"
      ],
      "metadata": {
        "execution": {
          "iopub.status.busy": "2024-06-24T06:34:06.33735Z",
          "iopub.status.idle": "2024-06-24T06:34:06.338Z",
          "shell.execute_reply.started": "2024-06-24T06:34:06.33767Z",
          "shell.execute_reply": "2024-06-24T06:34:06.337699Z"
        },
        "trusted": true,
        "id": "Nk_rytelBGPU"
      },
      "execution_count": null,
      "outputs": []
    },
    {
      "cell_type": "code",
      "source": [
        "df1['Start_Time'].dtypes"
      ],
      "metadata": {
        "execution": {
          "iopub.status.busy": "2024-06-24T06:34:06.339821Z",
          "iopub.status.idle": "2024-06-24T06:34:06.3405Z",
          "shell.execute_reply.started": "2024-06-24T06:34:06.340177Z",
          "shell.execute_reply": "2024-06-24T06:34:06.34021Z"
        },
        "trusted": true,
        "id": "rFo9ngk0BGPU"
      },
      "execution_count": null,
      "outputs": []
    },
    {
      "cell_type": "code",
      "source": [
        "df1['End_Time'].dtypes"
      ],
      "metadata": {
        "execution": {
          "iopub.status.busy": "2024-06-24T06:34:06.342034Z",
          "iopub.status.idle": "2024-06-24T06:34:06.342687Z",
          "shell.execute_reply.started": "2024-06-24T06:34:06.342372Z",
          "shell.execute_reply": "2024-06-24T06:34:06.342403Z"
        },
        "trusted": true,
        "id": "VjC2aHZ8BGPU"
      },
      "execution_count": null,
      "outputs": []
    },
    {
      "cell_type": "code",
      "source": [
        "df1 = df1.astype({'Start_Time': 'datetime64[ns]', 'End_Time': 'datetime64[ns]'})\n",
        "df1['Start_Time'].dtypes"
      ],
      "metadata": {
        "execution": {
          "iopub.status.busy": "2024-06-24T06:34:06.344439Z",
          "iopub.status.idle": "2024-06-24T06:34:06.344957Z",
          "shell.execute_reply.started": "2024-06-24T06:34:06.344705Z",
          "shell.execute_reply": "2024-06-24T06:34:06.344727Z"
        },
        "trusted": true,
        "id": "_KBrzxTkBGPU"
      },
      "execution_count": null,
      "outputs": []
    },
    {
      "cell_type": "code",
      "source": [
        "df1['Start_Time'][2408]"
      ],
      "metadata": {
        "execution": {
          "iopub.status.busy": "2024-06-24T06:34:06.346542Z",
          "iopub.status.idle": "2024-06-24T06:34:06.347068Z",
          "shell.execute_reply.started": "2024-06-24T06:34:06.346805Z",
          "shell.execute_reply": "2024-06-24T06:34:06.346827Z"
        },
        "trusted": true,
        "id": "FWvRVFgvBGPV"
      },
      "execution_count": null,
      "outputs": []
    },
    {
      "cell_type": "code",
      "source": [
        "df1['End_Time'][2408]"
      ],
      "metadata": {
        "execution": {
          "iopub.status.busy": "2024-06-24T06:34:06.349085Z",
          "iopub.status.idle": "2024-06-24T06:34:06.349611Z",
          "shell.execute_reply.started": "2024-06-24T06:34:06.349363Z",
          "shell.execute_reply": "2024-06-24T06:34:06.349385Z"
        },
        "trusted": true,
        "id": "CWyGcmLPBGPV"
      },
      "execution_count": null,
      "outputs": []
    },
    {
      "cell_type": "code",
      "source": [
        "df1['start_date'] = [d.date() for d in df1['Start_Time']]\n",
        "df1['start_time'] = [d.time() for d in df1['Start_Time']]"
      ],
      "metadata": {
        "execution": {
          "iopub.status.busy": "2024-06-24T06:34:06.351298Z",
          "iopub.status.idle": "2024-06-24T06:34:06.351814Z",
          "shell.execute_reply.started": "2024-06-24T06:34:06.351582Z",
          "shell.execute_reply": "2024-06-24T06:34:06.351606Z"
        },
        "trusted": true,
        "id": "OLuqU_84BGPV"
      },
      "execution_count": null,
      "outputs": []
    },
    {
      "cell_type": "code",
      "source": [
        "df1['end_date'] = [d.date() for d in df1['End_Time']]\n",
        "df1['end_time'] = [d.time() for d in df1['End_Time']]"
      ],
      "metadata": {
        "execution": {
          "iopub.status.busy": "2024-06-24T06:34:06.353776Z",
          "iopub.status.idle": "2024-06-24T06:34:06.354302Z",
          "shell.execute_reply.started": "2024-06-24T06:34:06.35408Z",
          "shell.execute_reply": "2024-06-24T06:34:06.354103Z"
        },
        "trusted": true,
        "id": "SxXTpObCBGPV"
      },
      "execution_count": null,
      "outputs": []
    },
    {
      "cell_type": "code",
      "source": [
        "df1['end_time']"
      ],
      "metadata": {
        "execution": {
          "iopub.status.busy": "2024-06-24T06:34:06.355599Z",
          "iopub.status.idle": "2024-06-24T06:34:06.356092Z",
          "shell.execute_reply.started": "2024-06-24T06:34:06.355848Z",
          "shell.execute_reply": "2024-06-24T06:34:06.355894Z"
        },
        "trusted": true,
        "id": "GjqWHXSQBGPV"
      },
      "execution_count": null,
      "outputs": []
    },
    {
      "cell_type": "code",
      "source": [
        "fig, ax = plt.subplots(figsize=(8,5))\n",
        "sns.histplot(df1['Start_Time'].dt.hour, bins = 24)\n",
        "\n",
        "plt.xlabel(\"Start Time\")\n",
        "plt.ylabel(\"Number of Occurence\")\n",
        "plt.title('Accidents Count By Time of Day')\n",
        "\n",
        "plt.show()"
      ],
      "metadata": {
        "execution": {
          "iopub.status.busy": "2024-06-24T06:34:06.358123Z",
          "iopub.status.idle": "2024-06-24T06:34:06.358602Z",
          "shell.execute_reply.started": "2024-06-24T06:34:06.35839Z",
          "shell.execute_reply": "2024-06-24T06:34:06.358412Z"
        },
        "trusted": true,
        "id": "_REObo5SBGPV"
      },
      "execution_count": null,
      "outputs": []
    },
    {
      "cell_type": "code",
      "source": [
        "fig, ax = plt.subplots(figsize=(8,5))\n",
        "sns.histplot(df1['Start_Time'].dt.hour, bins = 24)\n",
        "\n",
        "plt.xlabel(\"End_Time\")\n",
        "plt.ylabel(\"Number of Occurence\")\n",
        "plt.title('Accidents Count By Time of Day')\n",
        "\n",
        "plt.show()"
      ],
      "metadata": {
        "execution": {
          "iopub.status.busy": "2024-06-24T06:34:06.360435Z",
          "iopub.status.idle": "2024-06-24T06:34:06.361058Z",
          "shell.execute_reply.started": "2024-06-24T06:34:06.360771Z",
          "shell.execute_reply": "2024-06-24T06:34:06.360798Z"
        },
        "trusted": true,
        "id": "G64lQQD0BGPV"
      },
      "execution_count": null,
      "outputs": []
    },
    {
      "cell_type": "code",
      "source": [
        "del df1['Start_Time']\n",
        "del df1['End_Time']"
      ],
      "metadata": {
        "execution": {
          "iopub.status.busy": "2024-06-24T06:34:06.362931Z",
          "iopub.status.idle": "2024-06-24T06:34:06.36359Z",
          "shell.execute_reply.started": "2024-06-24T06:34:06.363269Z",
          "shell.execute_reply": "2024-06-24T06:34:06.363302Z"
        },
        "trusted": true,
        "id": "yw9vFON9BGPV"
      },
      "execution_count": null,
      "outputs": []
    },
    {
      "cell_type": "code",
      "source": [
        "#df.head()"
      ],
      "metadata": {
        "execution": {
          "iopub.status.busy": "2024-06-24T06:34:06.367049Z",
          "iopub.status.idle": "2024-06-24T06:34:06.367704Z",
          "shell.execute_reply.started": "2024-06-24T06:34:06.367384Z",
          "shell.execute_reply": "2024-06-24T06:34:06.367417Z"
        },
        "trusted": true,
        "id": "tLmXg2KRBGPV"
      },
      "execution_count": null,
      "outputs": []
    },
    {
      "cell_type": "code",
      "source": [
        "%matplotlib inline\n",
        "import os"
      ],
      "metadata": {
        "execution": {
          "iopub.status.busy": "2024-06-24T06:34:06.369646Z",
          "iopub.status.idle": "2024-06-24T06:34:06.370289Z",
          "shell.execute_reply.started": "2024-06-24T06:34:06.369979Z",
          "shell.execute_reply": "2024-06-24T06:34:06.370009Z"
        },
        "trusted": true,
        "id": "Tl0i27UZBGPV"
      },
      "execution_count": null,
      "outputs": []
    },
    {
      "cell_type": "code",
      "source": [
        "fig, ax = plt.subplots(figsize=(8,5))\n",
        "weather_conditions.sort_values(ascending=False)[:20].plot(kind='bar')\n",
        "ax.set(title = 'Weather Conditions at Time of Accident Occurence',\n",
        "       xlabel = 'Weather',\n",
        "       ylabel = 'Accidents Count')\n",
        "plt.show()"
      ],
      "metadata": {
        "execution": {
          "iopub.status.busy": "2024-06-24T06:34:06.372137Z",
          "iopub.status.idle": "2024-06-24T06:34:06.372757Z",
          "shell.execute_reply.started": "2024-06-24T06:34:06.372452Z",
          "shell.execute_reply": "2024-06-24T06:34:06.372491Z"
        },
        "trusted": true,
        "id": "By15bXtoBGPV"
      },
      "execution_count": null,
      "outputs": []
    },
    {
      "cell_type": "markdown",
      "source": [
        "#  most accidents happened when the weather was 'fair'. Perhaps weather (bad weather) was not a big contributing factor to accidents."
      ],
      "metadata": {
        "id": "Q3ILGnmSBGPW"
      }
    },
    {
      "cell_type": "code",
      "source": [
        "#df_num.head()"
      ],
      "metadata": {
        "execution": {
          "iopub.status.busy": "2024-06-24T06:34:06.374772Z",
          "iopub.status.idle": "2024-06-24T06:34:06.375405Z",
          "shell.execute_reply.started": "2024-06-24T06:34:06.375107Z",
          "shell.execute_reply": "2024-06-24T06:34:06.375135Z"
        },
        "trusted": true,
        "id": "2OWEpLvXBGPW"
      },
      "execution_count": null,
      "outputs": []
    },
    {
      "cell_type": "code",
      "source": [
        "# shape of original data -> 2845342 rows"
      ],
      "metadata": {
        "execution": {
          "iopub.status.busy": "2024-06-24T06:34:06.377023Z",
          "iopub.status.idle": "2024-06-24T06:34:06.377665Z",
          "shell.execute_reply.started": "2024-06-24T06:34:06.377345Z",
          "shell.execute_reply": "2024-06-24T06:34:06.377373Z"
        },
        "trusted": true,
        "id": "YgJ4_zKiBGPW"
      },
      "execution_count": null,
      "outputs": []
    },
    {
      "cell_type": "code",
      "source": [
        "df.shape  # shape of data after removing null values"
      ],
      "metadata": {
        "execution": {
          "iopub.status.busy": "2024-06-24T06:34:06.379483Z",
          "iopub.status.idle": "2024-06-24T06:34:06.380129Z",
          "shell.execute_reply.started": "2024-06-24T06:34:06.379805Z",
          "shell.execute_reply": "2024-06-24T06:34:06.379835Z"
        },
        "trusted": true,
        "id": "5x_RdMWDBGPW"
      },
      "execution_count": null,
      "outputs": []
    },
    {
      "cell_type": "code",
      "source": [
        "df_num.shape"
      ],
      "metadata": {
        "execution": {
          "iopub.status.busy": "2024-06-24T06:34:06.381871Z",
          "iopub.status.idle": "2024-06-24T06:34:06.382517Z",
          "shell.execute_reply.started": "2024-06-24T06:34:06.382201Z",
          "shell.execute_reply": "2024-06-24T06:34:06.382232Z"
        },
        "trusted": true,
        "id": "f70U4VGfBGPW"
      },
      "execution_count": null,
      "outputs": []
    },
    {
      "cell_type": "code",
      "source": [
        "# Accidents by order of severity (1 being lowest, and 4 being highest)\n",
        "\n",
        "df1.groupby('Severity').count()['IDD']"
      ],
      "metadata": {
        "execution": {
          "iopub.status.busy": "2024-06-24T06:34:06.384569Z",
          "iopub.status.idle": "2024-06-24T06:34:06.38527Z",
          "shell.execute_reply.started": "2024-06-24T06:34:06.384953Z",
          "shell.execute_reply": "2024-06-24T06:34:06.384984Z"
        },
        "trusted": true,
        "id": "-xQuXmv9BGPW"
      },
      "execution_count": null,
      "outputs": []
    },
    {
      "cell_type": "code",
      "source": [
        "# scatter plot"
      ],
      "metadata": {
        "execution": {
          "iopub.status.busy": "2024-06-24T06:34:06.386761Z",
          "iopub.status.idle": "2024-06-24T06:34:06.387406Z",
          "shell.execute_reply.started": "2024-06-24T06:34:06.387101Z",
          "shell.execute_reply": "2024-06-24T06:34:06.387132Z"
        },
        "trusted": true,
        "id": "vweT5TIpBGPW"
      },
      "execution_count": null,
      "outputs": []
    },
    {
      "cell_type": "code",
      "source": [
        "\n",
        "df_num.plot(kind='scatter', y='Start_Lat', x='Severity')\n"
      ],
      "metadata": {
        "execution": {
          "iopub.status.busy": "2024-06-24T06:34:06.389076Z",
          "iopub.status.idle": "2024-06-24T06:34:06.38969Z",
          "shell.execute_reply.started": "2024-06-24T06:34:06.389383Z",
          "shell.execute_reply": "2024-06-24T06:34:06.389411Z"
        },
        "trusted": true,
        "id": "zp0yqA5ABGPW"
      },
      "execution_count": null,
      "outputs": []
    },
    {
      "cell_type": "code",
      "source": [
        "sns.jointplot(x=df_num.Start_Lat.values , y=df_num.Start_Lng.values,height=10)\n",
        "plt.ylabel('Start lattitude', fontsize=12)\n",
        "plt.xlabel('Start lattitude', fontsize=12)\n",
        "plt.show()"
      ],
      "metadata": {
        "execution": {
          "iopub.status.busy": "2024-06-24T06:34:06.392012Z",
          "iopub.status.idle": "2024-06-24T06:34:06.392651Z",
          "shell.execute_reply.started": "2024-06-24T06:34:06.392334Z",
          "shell.execute_reply": "2024-06-24T06:34:06.392364Z"
        },
        "trusted": true,
        "id": "wFtvUfmwBGPW"
      },
      "execution_count": null,
      "outputs": []
    },
    {
      "cell_type": "code",
      "source": [
        "sns.jointplot(x=df_num.End_Lat.values , y=df_num.End_Lng.values,height=10)\n",
        "plt.ylabel('end lattitude', fontsize=12)\n",
        "plt.xlabel('end longitude', fontsize=12)\n",
        "plt.show()"
      ],
      "metadata": {
        "execution": {
          "iopub.status.busy": "2024-06-24T06:34:06.394628Z",
          "iopub.status.idle": "2024-06-24T06:34:06.395292Z",
          "shell.execute_reply.started": "2024-06-24T06:34:06.394974Z",
          "shell.execute_reply": "2024-06-24T06:34:06.395008Z"
        },
        "trusted": true,
        "id": "P-dvM8xdBGPW"
      },
      "execution_count": null,
      "outputs": []
    },
    {
      "cell_type": "code",
      "source": [],
      "metadata": {
        "trusted": true,
        "id": "H6N_tDj8BGPW"
      },
      "execution_count": null,
      "outputs": []
    },
    {
      "cell_type": "code",
      "source": [],
      "metadata": {
        "id": "w550Dq-GBGPW"
      },
      "execution_count": null,
      "outputs": []
    }
  ]
}